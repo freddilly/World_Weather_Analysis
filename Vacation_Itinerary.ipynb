{
 "cells": [
  {
   "cell_type": "code",
   "execution_count": 46,
   "metadata": {},
   "outputs": [],
   "source": [
    "#Import the dependencies\n",
    "import pandas as pd\n",
    "import gmaps\n",
    "import gmaps.datasets\n",
    "import requests\n",
    "#Import the API key.\n",
    "from config import g_key"
   ]
  },
  {
   "cell_type": "code",
   "execution_count": 47,
   "metadata": {},
   "outputs": [],
   "source": [
    "# Configure gmaps to use your Google API key.\n",
    "gmaps.configure(api_key=g_key)"
   ]
  },
  {
   "cell_type": "code",
   "execution_count": 48,
   "metadata": {},
   "outputs": [
    {
     "data": {
      "text/html": [
       "<div>\n",
       "<style scoped>\n",
       "    .dataframe tbody tr th:only-of-type {\n",
       "        vertical-align: middle;\n",
       "    }\n",
       "\n",
       "    .dataframe tbody tr th {\n",
       "        vertical-align: top;\n",
       "    }\n",
       "\n",
       "    .dataframe thead th {\n",
       "        text-align: right;\n",
       "    }\n",
       "</style>\n",
       "<table border=\"1\" class=\"dataframe\">\n",
       "  <thead>\n",
       "    <tr style=\"text-align: right;\">\n",
       "      <th></th>\n",
       "      <th>City_ID</th>\n",
       "      <th>City</th>\n",
       "      <th>Country</th>\n",
       "      <th>Max Temp</th>\n",
       "      <th>Lat</th>\n",
       "      <th>Lng</th>\n",
       "      <th>Current Description</th>\n",
       "      <th>Hotel Name</th>\n",
       "    </tr>\n",
       "  </thead>\n",
       "  <tbody>\n",
       "    <tr>\n",
       "      <th>0</th>\n",
       "      <td>4</td>\n",
       "      <td>Tonekabon</td>\n",
       "      <td>IR</td>\n",
       "      <td>77.00</td>\n",
       "      <td>36.82</td>\n",
       "      <td>50.87</td>\n",
       "      <td>clear sky</td>\n",
       "      <td>Hotel Sadra</td>\n",
       "    </tr>\n",
       "    <tr>\n",
       "      <th>1</th>\n",
       "      <td>7</td>\n",
       "      <td>Puerto Ayora</td>\n",
       "      <td>EC</td>\n",
       "      <td>75.20</td>\n",
       "      <td>-0.74</td>\n",
       "      <td>-90.35</td>\n",
       "      <td>few clouds</td>\n",
       "      <td>Finch Bay Galapagos Hotel</td>\n",
       "    </tr>\n",
       "    <tr>\n",
       "      <th>2</th>\n",
       "      <td>18</td>\n",
       "      <td>Belmonte</td>\n",
       "      <td>BR</td>\n",
       "      <td>75.20</td>\n",
       "      <td>-15.86</td>\n",
       "      <td>-38.88</td>\n",
       "      <td>clear sky</td>\n",
       "      <td>Pousada Monte Carmelo O Pão</td>\n",
       "    </tr>\n",
       "    <tr>\n",
       "      <th>3</th>\n",
       "      <td>21</td>\n",
       "      <td>Hithadhoo</td>\n",
       "      <td>MV</td>\n",
       "      <td>83.44</td>\n",
       "      <td>-0.60</td>\n",
       "      <td>73.08</td>\n",
       "      <td>scattered clouds</td>\n",
       "      <td>Scoop Guest House</td>\n",
       "    </tr>\n",
       "    <tr>\n",
       "      <th>4</th>\n",
       "      <td>22</td>\n",
       "      <td>Boromo</td>\n",
       "      <td>BF</td>\n",
       "      <td>87.96</td>\n",
       "      <td>11.75</td>\n",
       "      <td>-2.93</td>\n",
       "      <td>few clouds</td>\n",
       "      <td>Sama Camp</td>\n",
       "    </tr>\n",
       "  </tbody>\n",
       "</table>\n",
       "</div>"
      ],
      "text/plain": [
       "   City_ID          City Country  Max Temp    Lat    Lng Current Description  \\\n",
       "0        4     Tonekabon      IR     77.00  36.82  50.87           clear sky   \n",
       "1        7  Puerto Ayora      EC     75.20  -0.74 -90.35          few clouds   \n",
       "2       18      Belmonte      BR     75.20 -15.86 -38.88           clear sky   \n",
       "3       21     Hithadhoo      MV     83.44  -0.60  73.08    scattered clouds   \n",
       "4       22        Boromo      BF     87.96  11.75  -2.93          few clouds   \n",
       "\n",
       "                    Hotel Name  \n",
       "0                  Hotel Sadra  \n",
       "1    Finch Bay Galapagos Hotel  \n",
       "2  Pousada Monte Carmelo O Pão  \n",
       "3            Scoop Guest House  \n",
       "4                    Sama Camp  "
      ]
     },
     "execution_count": 48,
     "metadata": {},
     "output_type": "execute_result"
    }
   ],
   "source": [
    "#Store the CSV created earlier for hotels into a DataFrame.\n",
    "hotel_df = pd.read_csv(\"data/WeatherPy_vacation.csv\")\n",
    "hotel_df.head()"
   ]
  },
  {
   "cell_type": "code",
   "execution_count": 49,
   "metadata": {},
   "outputs": [],
   "source": [
    "#Create separate DataFrames for the 4 selected cities: Alcala De Henares,Toledo,Pozoblanco,Moura\n",
    "vacation_start_df = hotel_df.loc[hotel_df[\"City\"]==\"Alcala De Henares\"]\n",
    "vacation_second_df = hotel_df.loc[hotel_df[\"City\"]==\"Toledo\"]\n",
    "vacation_third_df = hotel_df.loc[hotel_df[\"City\"]==\"Pozoblanco\"]\n",
    "vacation_end_df = hotel_df.loc[hotel_df[\"City\"]==\"Moura\"]"
   ]
  },
  {
   "cell_type": "code",
   "execution_count": 50,
   "metadata": {},
   "outputs": [
    {
     "name": "stdout",
     "output_type": "stream",
     "text": [
      "(40.48, -3.36)\n",
      "(39.83, -4.0)\n",
      "(38.38, -4.85)\n",
      "(38.14, -7.45)\n"
     ]
    }
   ],
   "source": [
    "start_coords = vacation_start_df[\"Lat\"].values[0], vacation_start_df[\"Lng\"].values[0]\n",
    "second_coords = vacation_second_df[\"Lat\"].values[0], vacation_second_df[\"Lng\"].values[0]\n",
    "third_coords = vacation_third_df[\"Lat\"].values[0], vacation_third_df[\"Lng\"].values[0]\n",
    "end_coords = vacation_end_df[\"Lat\"].values[0], vacation_end_df[\"Lng\"].values[0]\n",
    "print(start_coords)\n",
    "print(second_coords)\n",
    "print(third_coords)\n",
    "print(end_coords)"
   ]
  },
  {
   "cell_type": "code",
   "execution_count": 51,
   "metadata": {},
   "outputs": [
    {
     "data": {
      "application/vnd.jupyter.widget-view+json": {
       "model_id": "f7e26fb2ce714e93badd0637baffe47d",
       "version_major": 2,
       "version_minor": 0
      },
      "text/plain": [
       "Figure(layout=FigureLayout(height='420px'))"
      ]
     },
     "metadata": {},
     "output_type": "display_data"
    }
   ],
   "source": [
    "fig = gmaps.figure()\n",
    "vacation_itinerary = gmaps.directions_layer(\n",
    "    start_coords,end_coords,waypoints=[second_coords,third_coords],\n",
    "    travel_mode=\"DRIVING\")\n",
    "fig.add_layer(vacation_itinerary)\n",
    "fig"
   ]
  },
  {
   "cell_type": "code",
   "execution_count": 52,
   "metadata": {},
   "outputs": [
    {
     "data": {
      "text/html": [
       "<div>\n",
       "<style scoped>\n",
       "    .dataframe tbody tr th:only-of-type {\n",
       "        vertical-align: middle;\n",
       "    }\n",
       "\n",
       "    .dataframe tbody tr th {\n",
       "        vertical-align: top;\n",
       "    }\n",
       "\n",
       "    .dataframe thead th {\n",
       "        text-align: right;\n",
       "    }\n",
       "</style>\n",
       "<table border=\"1\" class=\"dataframe\">\n",
       "  <thead>\n",
       "    <tr style=\"text-align: right;\">\n",
       "      <th></th>\n",
       "      <th>City_ID</th>\n",
       "      <th>City</th>\n",
       "      <th>Country</th>\n",
       "      <th>Max Temp</th>\n",
       "      <th>Lat</th>\n",
       "      <th>Lng</th>\n",
       "      <th>Current Description</th>\n",
       "      <th>Hotel Name</th>\n",
       "    </tr>\n",
       "  </thead>\n",
       "  <tbody>\n",
       "    <tr>\n",
       "      <th>76</th>\n",
       "      <td>279</td>\n",
       "      <td>Alcala De Henares</td>\n",
       "      <td>ES</td>\n",
       "      <td>80.6</td>\n",
       "      <td>40.48</td>\n",
       "      <td>-3.36</td>\n",
       "      <td>clear sky</td>\n",
       "      <td>AC Hotel by Marriott Alcala de Henares</td>\n",
       "    </tr>\n",
       "    <tr>\n",
       "      <th>96</th>\n",
       "      <td>333</td>\n",
       "      <td>Toledo</td>\n",
       "      <td>ES</td>\n",
       "      <td>82.0</td>\n",
       "      <td>39.83</td>\n",
       "      <td>-4.00</td>\n",
       "      <td>clear sky</td>\n",
       "      <td>Hotel Carlos V Toledo</td>\n",
       "    </tr>\n",
       "    <tr>\n",
       "      <th>140</th>\n",
       "      <td>477</td>\n",
       "      <td>Pozoblanco</td>\n",
       "      <td>ES</td>\n",
       "      <td>80.6</td>\n",
       "      <td>38.38</td>\n",
       "      <td>-4.85</td>\n",
       "      <td>clear sky</td>\n",
       "      <td>Hacienda Barriche</td>\n",
       "    </tr>\n",
       "    <tr>\n",
       "      <th>122</th>\n",
       "      <td>434</td>\n",
       "      <td>Moura</td>\n",
       "      <td>PT</td>\n",
       "      <td>77.0</td>\n",
       "      <td>38.14</td>\n",
       "      <td>-7.45</td>\n",
       "      <td>clear sky</td>\n",
       "      <td>Hotel de Moura</td>\n",
       "    </tr>\n",
       "  </tbody>\n",
       "</table>\n",
       "</div>"
      ],
      "text/plain": [
       "     City_ID               City Country  Max Temp    Lat   Lng  \\\n",
       "76       279  Alcala De Henares      ES      80.6  40.48 -3.36   \n",
       "96       333             Toledo      ES      82.0  39.83 -4.00   \n",
       "140      477         Pozoblanco      ES      80.6  38.38 -4.85   \n",
       "122      434              Moura      PT      77.0  38.14 -7.45   \n",
       "\n",
       "    Current Description                              Hotel Name  \n",
       "76            clear sky  AC Hotel by Marriott Alcala de Henares  \n",
       "96            clear sky                   Hotel Carlos V Toledo  \n",
       "140           clear sky                       Hacienda Barriche  \n",
       "122           clear sky                          Hotel de Moura  "
      ]
     },
     "execution_count": 52,
     "metadata": {},
     "output_type": "execute_result"
    }
   ],
   "source": [
    "itinerary_df = pd.concat([vacation_start_df,vacation_second_df,vacation_third_df,vacation_end_df])\n",
    "itinerary_df.head()\n",
    "\n",
    " \n",
    "\n"
   ]
  },
  {
   "cell_type": "code",
   "execution_count": 53,
   "metadata": {},
   "outputs": [
    {
     "data": {
      "text/html": [
       "<div>\n",
       "<style scoped>\n",
       "    .dataframe tbody tr th:only-of-type {\n",
       "        vertical-align: middle;\n",
       "    }\n",
       "\n",
       "    .dataframe tbody tr th {\n",
       "        vertical-align: top;\n",
       "    }\n",
       "\n",
       "    .dataframe thead th {\n",
       "        text-align: right;\n",
       "    }\n",
       "</style>\n",
       "<table border=\"1\" class=\"dataframe\">\n",
       "  <thead>\n",
       "    <tr style=\"text-align: right;\">\n",
       "      <th></th>\n",
       "      <th>City_ID</th>\n",
       "      <th>City</th>\n",
       "      <th>Country</th>\n",
       "      <th>Max Temp</th>\n",
       "      <th>Lat</th>\n",
       "      <th>Lng</th>\n",
       "      <th>Current Description</th>\n",
       "      <th>Hotel Name</th>\n",
       "    </tr>\n",
       "  </thead>\n",
       "  <tbody>\n",
       "    <tr>\n",
       "      <th>0</th>\n",
       "      <td>279</td>\n",
       "      <td>Alcala De Henares</td>\n",
       "      <td>ES</td>\n",
       "      <td>80.6</td>\n",
       "      <td>40.48</td>\n",
       "      <td>-3.36</td>\n",
       "      <td>clear sky</td>\n",
       "      <td>AC Hotel by Marriott Alcala de Henares</td>\n",
       "    </tr>\n",
       "    <tr>\n",
       "      <th>1</th>\n",
       "      <td>333</td>\n",
       "      <td>Toledo</td>\n",
       "      <td>ES</td>\n",
       "      <td>82.0</td>\n",
       "      <td>39.83</td>\n",
       "      <td>-4.00</td>\n",
       "      <td>clear sky</td>\n",
       "      <td>Hotel Carlos V Toledo</td>\n",
       "    </tr>\n",
       "    <tr>\n",
       "      <th>2</th>\n",
       "      <td>477</td>\n",
       "      <td>Pozoblanco</td>\n",
       "      <td>ES</td>\n",
       "      <td>80.6</td>\n",
       "      <td>38.38</td>\n",
       "      <td>-4.85</td>\n",
       "      <td>clear sky</td>\n",
       "      <td>Hacienda Barriche</td>\n",
       "    </tr>\n",
       "    <tr>\n",
       "      <th>3</th>\n",
       "      <td>434</td>\n",
       "      <td>Moura</td>\n",
       "      <td>PT</td>\n",
       "      <td>77.0</td>\n",
       "      <td>38.14</td>\n",
       "      <td>-7.45</td>\n",
       "      <td>clear sky</td>\n",
       "      <td>Hotel de Moura</td>\n",
       "    </tr>\n",
       "  </tbody>\n",
       "</table>\n",
       "</div>"
      ],
      "text/plain": [
       "   City_ID               City Country  Max Temp    Lat   Lng  \\\n",
       "0      279  Alcala De Henares      ES      80.6  40.48 -3.36   \n",
       "1      333             Toledo      ES      82.0  39.83 -4.00   \n",
       "2      477         Pozoblanco      ES      80.6  38.38 -4.85   \n",
       "3      434              Moura      PT      77.0  38.14 -7.45   \n",
       "\n",
       "  Current Description                              Hotel Name  \n",
       "0           clear sky  AC Hotel by Marriott Alcala de Henares  \n",
       "1           clear sky                   Hotel Carlos V Toledo  \n",
       "2           clear sky                       Hacienda Barriche  \n",
       "3           clear sky                          Hotel de Moura  "
      ]
     },
     "execution_count": 53,
     "metadata": {},
     "output_type": "execute_result"
    }
   ],
   "source": [
    "#Drop the index of the dataframe\n",
    "itinerary_df.reset_index(drop=True)"
   ]
  },
  {
   "cell_type": "code",
   "execution_count": 54,
   "metadata": {},
   "outputs": [],
   "source": [
    "#Create an information box to add to the map.\n",
    "info_box_template = \"\"\"\n",
    "<dl>\n",
    "<dt>Hotel Name</dt><dd>{Hotel Name}</dd>\n",
    "<dt>City</dt><dd>{City}</dd>\n",
    "<dt>Country</dt><dd>{Country}</dd>\n",
    "<dt>Current Weather</dt><dd>{Current Description} and {Max Temp} °F</dd>\n",
    "</dl>\n",
    "\"\"\"\n",
    "#Store the DataFrame Row.\n",
    "hotel_info = [info_box_template.format(**row) for index, row in itinerary_df.iterrows()]\n",
    "locations = itinerary_df[[\"Lat\",\"Lng\"]]"
   ]
  },
  {
   "cell_type": "code",
   "execution_count": 55,
   "metadata": {},
   "outputs": [
    {
     "data": {
      "application/vnd.jupyter.widget-view+json": {
       "model_id": "ac88986e4edc4e19aa7177e6200428e2",
       "version_major": 2,
       "version_minor": 0
      },
      "text/plain": [
       "Figure(layout=FigureLayout(height='420px'))"
      ]
     },
     "metadata": {},
     "output_type": "display_data"
    }
   ],
   "source": [
    "marker_layer = gmaps.marker_layer(locations, info_box_content=hotel_info)\n",
    "fig = gmaps.figure()\n",
    "fig.add_layer(marker_layer)\n",
    "\n",
    "fig\n"
   ]
  },
  {
   "cell_type": "code",
   "execution_count": null,
   "metadata": {},
   "outputs": [],
   "source": []
  }
 ],
 "metadata": {
  "kernelspec": {
   "display_name": "PythonData",
   "language": "python",
   "name": "pythondata"
  },
  "language_info": {
   "codemirror_mode": {
    "name": "ipython",
    "version": 3
   },
   "file_extension": ".py",
   "mimetype": "text/x-python",
   "name": "python",
   "nbconvert_exporter": "python",
   "pygments_lexer": "ipython3",
   "version": "3.7.7"
  }
 },
 "nbformat": 4,
 "nbformat_minor": 4
}
